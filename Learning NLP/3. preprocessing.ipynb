{
 "cells": [
  {
   "cell_type": "markdown",
   "id": "263b89bc-6894-472a-9e5f-cacb68343d5a",
   "metadata": {
    "tags": []
   },
   "source": [
    "# Pre-Processing"
   ]
  },
  {
   "cell_type": "code",
   "execution_count": 14,
   "id": "89845cb8-e41c-4caf-9101-bfbda3f8b35c",
   "metadata": {},
   "outputs": [],
   "source": [
    "import nltk"
   ]
  },
  {
   "cell_type": "markdown",
   "id": "1d929894-c526-4313-a8ae-c294ff53fca5",
   "metadata": {
    "jp-MarkdownHeadingCollapsed": true,
    "tags": []
   },
   "source": [
    "### Tokenization – learning to use the inbuilt tokenizers of NLTK"
   ]
  },
  {
   "cell_type": "code",
   "execution_count": 1,
   "id": "5f8ef5bb-97c8-431c-a4d1-ce690cf9efb8",
   "metadata": {},
   "outputs": [],
   "source": [
    "from nltk.tokenize import LineTokenizer, SpaceTokenizer, TweetTokenizer\n",
    "from nltk import word_tokenize\n"
   ]
  },
  {
   "cell_type": "code",
   "execution_count": 4,
   "id": "2f8fc0ba-0581-40f1-8934-b5d1fbb54103",
   "metadata": {},
   "outputs": [
    {
     "name": "stdout",
     "output_type": "stream",
     "text": [
      "Line tokenizer output : ['My name is Maximus Decimus Meridius, commander of the Armies of the North, General of the Felix Legions and loyal servant to the true emperor, Marcus Aurelius. ', 'Father to a murdered son, husband to a murdered wife. ', 'And I will have my vengeance, in this life or the next.']\n"
     ]
    }
   ],
   "source": [
    "lTokenizer = LineTokenizer()\n",
    "print(\"Line tokenizer output :\",lTokenizer.tokenize(\"My name is Maximus Decimus Meridius, commander of the Armies of the North, General of the Felix Legions and loyal servant to the true emperor, Marcus Aurelius. \\nFather to a murdered son, husband to a murdered wife. \\nAnd I will have my vengeance, in this life or the next.\"))"
   ]
  },
  {
   "cell_type": "code",
   "execution_count": 5,
   "id": "96d27684-0143-4585-af5f-e1546bdf3348",
   "metadata": {},
   "outputs": [
    {
     "name": "stdout",
     "output_type": "stream",
     "text": [
      "Space Tokenizer output : ['By', '11', \"o'clock\", 'on', 'Sunday,', 'the', 'doctor', 'shall', 'open', 'the', 'dispensary.']\n"
     ]
    }
   ],
   "source": [
    "rawText = \"By 11 o'clock on Sunday, the doctor shall open the dispensary.\"\n",
    "sTokenizer = SpaceTokenizer()\n",
    "print(\"Space Tokenizer output :\",sTokenizer.tokenize(rawText))"
   ]
  },
  {
   "cell_type": "code",
   "execution_count": 12,
   "id": "3c905a7e-2804-4669-9ec8-46827235adfc",
   "metadata": {},
   "outputs": [
    {
     "name": "stdout",
     "output_type": "stream",
     "text": [
      "Word Tokenizer output : ['By', '11', \"o'clock\", 'on', 'Sunday', ',', 'the', 'doctor', 'shall', 'open', 'the', 'dispensary', '.']\n"
     ]
    }
   ],
   "source": [
    "print(\"Word Tokenizer output :\", word_tokenize(rawText))"
   ]
  },
  {
   "cell_type": "code",
   "execution_count": 7,
   "id": "291b0253-ff63-4fe2-94a6-e4ff9ed62e76",
   "metadata": {},
   "outputs": [
    {
     "name": "stdout",
     "output_type": "stream",
     "text": [
      "Tweet Tokenizer output : ['This', 'is', 'a', 'cooool', '#dummysmiley', ':', ':-)', ':-P', '<3']\n"
     ]
    }
   ],
   "source": [
    "tTokenizer = TweetTokenizer()\n",
    "print(\"Tweet Tokenizer output :\",tTokenizer.tokenize(\"This is a cooool #dummysmiley: :-) :-P <3\"))"
   ]
  },
  {
   "cell_type": "markdown",
   "id": "0c786cae-f28a-4fff-a2db-96cb48ba32b8",
   "metadata": {
    "jp-MarkdownHeadingCollapsed": true,
    "tags": []
   },
   "source": [
    "### Stemming – learning to use the inbuilt stemmers of NLTK"
   ]
  },
  {
   "cell_type": "code",
   "execution_count": 14,
   "id": "2d5abf5a-612a-44f6-9fca-a207881692c6",
   "metadata": {},
   "outputs": [],
   "source": [
    "from nltk import PorterStemmer, LancasterStemmer, word_tokenize"
   ]
  },
  {
   "cell_type": "code",
   "execution_count": 16,
   "id": "08e5a2e4-c29c-43e2-8593-9cc2188cdd2a",
   "metadata": {},
   "outputs": [],
   "source": [
    "raw = \"My name is Maximus Decimus Meridius, commander of the Armies of the North, General of the Felix Legions and loyal servant to the true emperor, Marcus Aurelius. Father to a murdered son, husband to a murdered wife. And I will have my vengeance, in this life or the next.\"\n",
    "tokens = word_tokenize(raw)"
   ]
  },
  {
   "cell_type": "code",
   "execution_count": 18,
   "id": "3577f857-24e5-4a48-a06e-7a03726c7dd4",
   "metadata": {},
   "outputs": [
    {
     "name": "stdout",
     "output_type": "stream",
     "text": [
      "['my', 'name', 'is', 'maximu', 'decimu', 'meridiu', ',', 'command', 'of', 'the', 'armi', 'of', 'the', 'north', ',', 'gener', 'of', 'the', 'felix', 'legion', 'and', 'loyal', 'servant', 'to', 'the', 'true', 'emperor', ',', 'marcu', 'aureliu', '.', 'father', 'to', 'a', 'murder', 'son', ',', 'husband', 'to', 'a', 'murder', 'wife', '.', 'and', 'i', 'will', 'have', 'my', 'vengeanc', ',', 'in', 'thi', 'life', 'or', 'the', 'next', '.']\n"
     ]
    }
   ],
   "source": [
    "porter = PorterStemmer()\n",
    "pStems = [porter.stem(t) for t in tokens]\n",
    "print(pStems)"
   ]
  },
  {
   "cell_type": "code",
   "execution_count": 19,
   "id": "614cfea5-231f-4fe6-8c9f-3f669be96ee0",
   "metadata": {},
   "outputs": [
    {
     "name": "stdout",
     "output_type": "stream",
     "text": [
      "['my', 'nam', 'is', 'maxim', 'decim', 'meridi', ',', 'command', 'of', 'the', 'army', 'of', 'the', 'nor', ',', 'gen', 'of', 'the', 'felix', 'leg', 'and', 'loy', 'serv', 'to', 'the', 'tru', 'emp', ',', 'marc', 'aureli', '.', 'fath', 'to', 'a', 'murd', 'son', ',', 'husband', 'to', 'a', 'murd', 'wif', '.', 'and', 'i', 'wil', 'hav', 'my', 'veng', ',', 'in', 'thi', 'lif', 'or', 'the', 'next', '.']\n"
     ]
    }
   ],
   "source": [
    "lancaster = LancasterStemmer()\n",
    "lStems = [lancaster.stem(t) for t in tokens]\n",
    "print(lStems)"
   ]
  },
  {
   "cell_type": "markdown",
   "id": "c89a8883-4851-4058-9bdc-f2160f11e1b7",
   "metadata": {
    "jp-MarkdownHeadingCollapsed": true,
    "tags": []
   },
   "source": [
    "### Lemmatization – learning to use the WordnetLemmatizer of NLTK"
   ]
  },
  {
   "cell_type": "code",
   "execution_count": 4,
   "id": "ce96caed-1944-4094-8dad-70e06d764b3a",
   "metadata": {},
   "outputs": [],
   "source": [
    "from nltk import WordNetLemmatizer,word_tokenize, PorterStemmer"
   ]
  },
  {
   "cell_type": "code",
   "execution_count": 5,
   "id": "6e3baa32-262d-4ce3-902f-465d68f6c034",
   "metadata": {},
   "outputs": [],
   "source": [
    "raw = \"My name is Maximus Decimus Meridius, commander of the armies of the north, General of the Felix legions and loyal servant to the true emperor, Marcus Aurelius. Father to a murdered son, husband to a murdered wife. And I will have my vengeance, in this life or the next.\"\n",
    "tokens = word_tokenize(raw)"
   ]
  },
  {
   "cell_type": "code",
   "execution_count": 6,
   "id": "0aba759b-4d79-4327-824c-18aaa63a8f9c",
   "metadata": {},
   "outputs": [
    {
     "name": "stdout",
     "output_type": "stream",
     "text": [
      "['my', 'name', 'is', 'maximu', 'decimu', 'meridiu', ',', 'command', 'of', 'the', 'armi', 'of', 'the', 'north', ',', 'gener', 'of', 'the', 'felix', 'legion', 'and', 'loyal', 'servant', 'to', 'the', 'true', 'emperor', ',', 'marcu', 'aureliu', '.', 'father', 'to', 'a', 'murder', 'son', ',', 'husband', 'to', 'a', 'murder', 'wife', '.', 'and', 'i', 'will', 'have', 'my', 'vengeanc', ',', 'in', 'thi', 'life', 'or', 'the', 'next', '.']\n"
     ]
    }
   ],
   "source": [
    "porter = PorterStemmer()\n",
    "stems = [porter.stem(t) for t in tokens]\n",
    "print(stems)"
   ]
  },
  {
   "cell_type": "code",
   "execution_count": 8,
   "id": "2a0c231e-495b-48ce-bfdc-57ebdd8a563a",
   "metadata": {},
   "outputs": [
    {
     "name": "stdout",
     "output_type": "stream",
     "text": [
      "['My', 'name', 'is', 'Maximus', 'Decimus', 'Meridius', ',', 'commander', 'of', 'the', 'army', 'of', 'the', 'north', ',', 'General', 'of', 'the', 'Felix', 'legion', 'and', 'loyal', 'servant', 'to', 'the', 'true', 'emperor', ',', 'Marcus', 'Aurelius', '.', 'Father', 'to', 'a', 'murdered', 'son', ',', 'husband', 'to', 'a', 'murdered', 'wife', '.', 'And', 'I', 'will', 'have', 'my', 'vengeance', ',', 'in', 'this', 'life', 'or', 'the', 'next', '.']\n"
     ]
    }
   ],
   "source": [
    "lemmatizer = WordNetLemmatizer()\n",
    "lemmas = [lemmatizer.lemmatize(t) for t in tokens]\n",
    "print(lemmas)"
   ]
  },
  {
   "cell_type": "markdown",
   "id": "8d0ad2d4-18f1-4f42-9fc9-79776123d3ed",
   "metadata": {
    "jp-MarkdownHeadingCollapsed": true,
    "tags": []
   },
   "source": [
    "### Stopwords – learning to use the stopwords corpus and seeing the difference it can make"
   ]
  },
  {
   "cell_type": "code",
   "execution_count": 11,
   "id": "035edf15-b11e-4ad8-a0fa-b5e5b0e203ab",
   "metadata": {},
   "outputs": [
    {
     "name": "stdout",
     "output_type": "stream",
     "text": [
      "['austen-emma.txt', 'austen-persuasion.txt', 'austen-sense.txt', 'bible-kjv.txt', 'blake-poems.txt', 'bryant-stories.txt', 'burgess-busterbrown.txt', 'carroll-alice.txt', 'chesterton-ball.txt', 'chesterton-brown.txt', 'chesterton-thursday.txt', 'edgeworth-parents.txt', 'melville-moby_dick.txt', 'milton-paradise.txt', 'shakespeare-caesar.txt', 'shakespeare-hamlet.txt', 'shakespeare-macbeth.txt', 'whitman-leaves.txt']\n"
     ]
    }
   ],
   "source": [
    "from nltk.corpus import gutenberg\n",
    "print(gutenberg.fileids())"
   ]
  },
  {
   "cell_type": "code",
   "execution_count": 12,
   "id": "0a776957-b4a8-4c58-b7f8-b3f34d83688d",
   "metadata": {},
   "outputs": [],
   "source": [
    "gb_words = gutenberg.words('bible-kjv.txt')\n",
    "words_filtered = [e for e in gb_words if len(e) >=3]"
   ]
  },
  {
   "cell_type": "code",
   "execution_count": 16,
   "id": "37f3f2d6-f962-4673-bc9d-bf41596875d8",
   "metadata": {},
   "outputs": [],
   "source": [
    "stopwords = nltk.corpus.stopwords.words('english')\n",
    "words = [w for w in words_filtered if w.lower() not in stopwords]"
   ]
  },
  {
   "cell_type": "code",
   "execution_count": 17,
   "id": "18ab6c73-c598-42ee-a4e6-f57060837156",
   "metadata": {},
   "outputs": [],
   "source": [
    "fdistPlain = nltk.FreqDist(words)\n",
    "fdist = nltk.FreqDist(gb_words)"
   ]
  },
  {
   "cell_type": "code",
   "execution_count": 20,
   "id": "e0c10d98-0429-4cb9-acae-4e9756efb7c0",
   "metadata": {},
   "outputs": [
    {
     "name": "stdout",
     "output_type": "stream",
     "text": [
      "Following are the most common 10 words in the bag\n",
      "[(',', 70509), ('the', 62103), (':', 43766), ('and', 38847), ('of', 34480), ('.', 26160), ('to', 13396), ('And', 12846), ('that', 12576), ('in', 12331)]\n",
      "Following are the most common 10 words in the bag minus the stopwords\n",
      "[('shall', 9760), ('unto', 8940), ('LORD', 6651), ('thou', 4890), ('thy', 4450), ('God', 4115), ('said', 3995), ('thee', 3827), ('upon', 2730), ('man', 2721)]\n"
     ]
    }
   ],
   "source": [
    "print('Following are the most common 10 words in the bag')\n",
    "print(fdist.most_common(10))\n",
    "print('Following are the most common 10 words in the bag minus the stopwords')\n",
    "print(fdistPlain.most_common(10))"
   ]
  },
  {
   "cell_type": "markdown",
   "id": "3379a007-e5a0-4715-ba11-53f9c447a9fa",
   "metadata": {
    "jp-MarkdownHeadingCollapsed": true,
    "tags": []
   },
   "source": [
    "### Edit distance – writing your own algorithm to find edit distance between two strings"
   ]
  },
  {
   "cell_type": "code",
   "execution_count": 21,
   "id": "f40d14dd-2d53-4143-ae4d-8530e72de9c4",
   "metadata": {},
   "outputs": [],
   "source": [
    "from nltk.metrics.distance import edit_distance"
   ]
  },
  {
   "cell_type": "code",
   "execution_count": 32,
   "id": "6087d5b1-173b-49c7-a33d-1652db98dfdb",
   "metadata": {},
   "outputs": [],
   "source": [
    "def my_edit_distance(str1, str2):\n",
    "    m = len(str1) +1\n",
    "    n = len(str2) +1\n",
    "    table = {}\n",
    "    for i in range(m): table[i,0] = i\n",
    "    for j in range(n): table[0,j] = j\n",
    "    for i in range(1, m):\n",
    "        for j in range(1, n):\n",
    "            cost = 0 if str1[i-1] == str2[j-1] else 1\n",
    "            table[i,j] = min(table[i, j-1]+1, table[i-1, j]+1, table[i-1,j-1]+cost)\n",
    "    return table[i,j]"
   ]
  },
  {
   "cell_type": "code",
   "execution_count": 33,
   "id": "41ea31ba-6cca-4ba8-b70b-61c3bf1dd6f8",
   "metadata": {},
   "outputs": [
    {
     "name": "stdout",
     "output_type": "stream",
     "text": [
      "Our Algorithm : 1\n",
      "NLTK Algorithm : 1\n"
     ]
    }
   ],
   "source": [
    "print(\"Our Algorithm :\",my_edit_distance(\"hand\", \"and\"))\n",
    "print(\"NLTK Algorithm :\",edit_distance(\"hand\", \"and\"))"
   ]
  },
  {
   "cell_type": "markdown",
   "id": "11578d9c-7c29-4631-bc37-dabf3ae44db1",
   "metadata": {
    "jp-MarkdownHeadingCollapsed": true,
    "tags": []
   },
   "source": [
    "### Processing two short stories and extracting the common vocabulary between two of them"
   ]
  },
  {
   "cell_type": "code",
   "execution_count": null,
   "id": "e5580e57-3308-462e-949f-07ceebac3a21",
   "metadata": {},
   "outputs": [],
   "source": [
    "story1 = \"\"\"In a far away kingdom, there was a river. This river\n",
    "was home to many golden swans. The swans spent most of their time\n",
    "on the banks of the river. Every six months, the swans would leave\n",
    "a golden feather as a fee for using the lake. The soldiers of the\n",
    "kingdom would collect the feathers and deposit them in the royal\n",
    "treasury.\n",
    "One day, a homeless bird saw the river. \"The water in this river\n",
    "seems so cool and soothing. I will make my home here,\" thought the\n",
    "bird.\n",
    "As soon as the bird settled down near the river, the golden swans\n",
    "noticed her. They came shouting. \"This river belongs to us. We pay\n",
    "a golden feather to the King to use this river. You can not live\n",
    "here.\"\n",
    "\"I am homeless, brothers. I too will pay the rent. Please give me\n",
    "shelter,\" the bird pleaded. \"How will you pay the rent? You do not\n",
    "have golden feathers,\" said the swans laughing. They further added,\n",
    "\"Stop dreaming and leave once.\" The humble bird pleaded many times.\n",
    "But the arrogant swans drove the bird away.\n",
    "\"I will teach them a lesson!\" decided the humiliated bird.\n",
    "She went to the King and said, \"O King! The swans in your river are\n",
    "impolite and unkind. I begged for shelter but they said that they\n",
    "had purchased the river with golden feathers.\"\n",
    "The King was angry with the arrogant swans for having insulted the\n",
    "homeless bird. He ordered his soldiers to bring the arrogant swans\n",
    "to his court. In no time, all the golden swans were brought to the\n",
    "King’s court.\n",
    "\"Do you think the royal treasury depends upon your golden feathers?\n",
    "You can not decide who lives by the river. Leave the river at once\n",
    "or you all will be beheaded!\" shouted the King.\n",
    "The swans shivered with fear on hearing the King. They flew away\n",
    "never to return. The bird built her home near the river and lived\n",
    "there happily forever. The bird gave shelter to all other birds in\n",
    "the river. \"\"\""
   ]
  },
  {
   "cell_type": "code",
   "execution_count": 35,
   "id": "57b69624-7c31-48da-9ad9-919cb76f6d37",
   "metadata": {},
   "outputs": [],
   "source": [
    "story2 = \"\"\"Long time ago, there lived a King. He was lazy and\n",
    "liked all the comforts of life. He never carried out his duties as\n",
    "a King. “Our King does not take care of our needs. He also ignores\n",
    "the affairs of his kingdom.\" The people complained.\n",
    "One day, the King went into the forest to hunt. After having\n",
    "wandered for quite sometime, he became thirsty. To his relief, he\n",
    "spotted a lake. As he was drinking water, he suddenly saw a golden\n",
    "swan come out of the lake and perch on a stone. “Oh! A golden swan.\n",
    "I must capture it,\" thought the King.\n",
    "But as soon as he held his bow up, the swan disappeared. And the\n",
    "King heard a voice, “I am the Golden Swan. If you want to capture\n",
    "me, you must come to heaven.\"\n",
    "Surprised, the King said, “Please show me the way to heaven.\" “Do\n",
    "good deeds, serve your people and the messenger from heaven would\n",
    "come to fetch you to heaven,\" replied the voice.\n",
    "The selfish King, eager to capture the Swan, tried doing some good\n",
    "deeds in his Kingdom. “Now, I suppose a messenger will come to take\n",
    "me to heaven,\" he thought. But, no messenger came.\n",
    "The King then disguised himself and went out into the street. There\n",
    "he tried helping an old man. But the old man became angry and said,\n",
    "“You need not try to help. I am in this miserable state because of\n",
    "out selfish King. He has done nothing for his people.\"\n",
    "Suddenly, the King heard the golden swan’s voice, “Do good deeds and\n",
    "you will come to heaven.\" It dawned on the King that by doing\n",
    "selfish acts, he will not go to heaven.\n",
    "He realized that his people needed him and carrying out his duties\n",
    "was the only way to heaven. After that day he became a responsible\n",
    "King.\n",
    "\"\"\""
   ]
  },
  {
   "cell_type": "code",
   "execution_count": 36,
   "id": "11f978b0-f928-4f01-a305-ddaf0e85b765",
   "metadata": {},
   "outputs": [],
   "source": [
    "story1 = story1.replace(\",\", \"\").replace(\"\\n\", \"\").replace('.','').replace('\"', '').replace(\"!\",\"\").replace(\"?\",\"\").casefold()\n",
    "story2 = story2.replace(\",\", \"\").replace(\"\\n\", \"\").replace('.','').replace('\"', '').replace(\"!\",\"\").replace(\"?\",\"\").casefold()"
   ]
  },
  {
   "cell_type": "code",
   "execution_count": 38,
   "id": "0a39eed7-0bd2-498c-87a1-52c724d3aabc",
   "metadata": {},
   "outputs": [
    {
     "name": "stdout",
     "output_type": "stream",
     "text": [
      "First Story words : ['in', 'a', 'far', 'away', 'kingdom', 'there', 'was', 'a', 'river', 'this', 'river', 'was', 'home', 'to', 'many', 'golden', 'swans', 'the', 'swans', 'spent', 'most', 'of', 'their', 'time', 'on', 'the', 'banks', 'of', 'the', 'river', 'every', 'six', 'months', 'the', 'swans', 'would', 'leave', 'a', 'golden', 'feather', 'as', 'a', 'fee', 'for', 'using', 'the', 'lake', 'the', 'soldiers', 'of', 'the', 'kingdom', 'would', 'collect', 'the', 'feathers', 'and', 'deposit', 'them', 'in', 'the', 'royal', 'treasury', 'one', 'day', 'a', 'homeless', 'bird', 'saw', 'the', 'river', 'the', 'water', 'in', 'this', 'river', 'seems', 'so', 'cool', 'and', 'soothing', 'i', 'will', 'make', 'my', 'home', 'here', 'thought', 'the', 'bird', 'as', 'soon', 'as', 'the', 'bird', 'settled', 'down', 'near', 'the', 'river', 'the', 'golden', 'swans', 'noticed', 'her', 'they', 'came', 'shouting', 'this', 'river', 'belongs', 'to', 'us', 'we', 'pay', 'a', 'golden', 'feather', 'to', 'the', 'king', 'to', 'use', 'this', 'river', 'you', 'can', 'not', 'live', 'here', 'i', 'am', 'homeless', 'brothers', 'i', 'too', 'will', 'pay', 'the', 'rent', 'please', 'give', 'me', 'shelter', 'the', 'bird', 'pleaded', 'how', 'will', 'you', 'pay', 'the', 'rent', 'you', 'do', 'not', 'have', 'golden', 'feathers', 'said', 'the', 'swans', 'laughing', 'they', 'further', 'added', 'stop', 'dreaming', 'and', 'leave', 'once', 'the', 'humble', 'bird', 'pleaded', 'many', 'timesbut', 'the', 'arrogant', 'swans', 'drove', 'the', 'bird', 'awayi', 'will', 'teach', 'them', 'a', 'lesson', 'decided', 'the', 'humiliated', 'birdshe', 'went', 'to', 'the', 'king', 'and', 'said', 'o', 'king', 'the', 'swans', 'in', 'your', 'river', 'areimpolite', 'and', 'unkind', 'i', 'begged', 'for', 'shelter', 'but', 'they', 'said', 'that', 'theyhad', 'purchased', 'the', 'river', 'with', 'golden', 'feathersthe', 'king', 'was', 'angry', 'with', 'the', 'arrogant', 'swans', 'for', 'having', 'insulted', 'thehomeless', 'bird', 'he', 'ordered', 'his', 'soldiers', 'to', 'bring', 'the', 'arrogant', 'swansto', 'his', 'court', 'in', 'no', 'time', 'all', 'the', 'golden', 'swans', 'were', 'brought', 'to', 'theking’s', 'courtdo', 'you', 'think', 'the', 'royal', 'treasury', 'depends', 'upon', 'your', 'golden', 'feathersyou', 'can', 'not', 'decide', 'who', 'lives', 'by', 'the', 'river', 'leave', 'the', 'river', 'at', 'onceor', 'you', 'all', 'will', 'be', 'beheaded', 'shouted', 'the', 'kingthe', 'swans', 'shivered', 'with', 'fear', 'on', 'hearing', 'the', 'king', 'they', 'flew', 'awaynever', 'to', 'return', 'the', 'bird', 'built', 'her', 'home', 'near', 'the', 'river', 'and', 'livedthere', 'happily', 'forever', 'the', 'bird', 'gave', 'shelter', 'to', 'all', 'other', 'birds', 'inthe', 'river', '']\n",
      "\n",
      "\n",
      "\n",
      "Second Story words : ['long', 'time', 'ago', 'there', 'lived', 'a', 'king', 'he', 'was', 'lazy', 'andliked', 'all', 'the', 'comforts', 'of', 'life', 'he', 'never', 'carried', 'out', 'his', 'duties', 'asa', 'king', '“our', 'king', 'does', 'not', 'take', 'care', 'of', 'our', 'needs', 'he', 'also', 'ignoresthe', 'affairs', 'of', 'his', 'kingdom', 'the', 'people', 'complainedone', 'day', 'the', 'king', 'went', 'into', 'the', 'forest', 'to', 'hunt', 'after', 'havingwandered', 'for', 'quite', 'sometime', 'he', 'became', 'thirsty', 'to', 'his', 'relief', 'hespotted', 'a', 'lake', 'as', 'he', 'was', 'drinking', 'water', 'he', 'suddenly', 'saw', 'a', 'goldenswan', 'come', 'out', 'of', 'the', 'lake', 'and', 'perch', 'on', 'a', 'stone', '“oh', 'a', 'golden', 'swani', 'must', 'capture', 'it', 'thought', 'the', 'kingbut', 'as', 'soon', 'as', 'he', 'held', 'his', 'bow', 'up', 'the', 'swan', 'disappeared', 'and', 'theking', 'heard', 'a', 'voice', '“i', 'am', 'the', 'golden', 'swan', 'if', 'you', 'want', 'to', 'captureme', 'you', 'must', 'come', 'to', 'heavensurprised', 'the', 'king', 'said', '“please', 'show', 'me', 'the', 'way', 'to', 'heaven', '“dogood', 'deeds', 'serve', 'your', 'people', 'and', 'the', 'messenger', 'from', 'heaven', 'wouldcome', 'to', 'fetch', 'you', 'to', 'heaven', 'replied', 'the', 'voicethe', 'selfish', 'king', 'eager', 'to', 'capture', 'the', 'swan', 'tried', 'doing', 'some', 'gooddeeds', 'in', 'his', 'kingdom', '“now', 'i', 'suppose', 'a', 'messenger', 'will', 'come', 'to', 'takeme', 'to', 'heaven', 'he', 'thought', 'but', 'no', 'messenger', 'camethe', 'king', 'then', 'disguised', 'himself', 'and', 'went', 'out', 'into', 'the', 'street', 'therehe', 'tried', 'helping', 'an', 'old', 'man', 'but', 'the', 'old', 'man', 'became', 'angry', 'and', 'said“you', 'need', 'not', 'try', 'to', 'help', 'i', 'am', 'in', 'this', 'miserable', 'state', 'because', 'ofout', 'selfish', 'king', 'he', 'has', 'done', 'nothing', 'for', 'his', 'peoplesuddenly', 'the', 'king', 'heard', 'the', 'golden', 'swan’s', 'voice', '“do', 'good', 'deeds', 'andyou', 'will', 'come', 'to', 'heaven', 'it', 'dawned', 'on', 'the', 'king', 'that', 'by', 'doingselfish', 'acts', 'he', 'will', 'not', 'go', 'to', 'heavenhe', 'realized', 'that', 'his', 'people', 'needed', 'him', 'and', 'carrying', 'out', 'his', 'dutieswas', 'the', 'only', 'way', 'to', 'heaven', 'after', 'that', 'day', 'he', 'became', 'a', 'responsibleking']\n"
     ]
    }
   ],
   "source": [
    "story1_words = story1.split(\" \")\n",
    "print(\"First Story words :\",story1_words)\n",
    "print('\\n\\n')\n",
    "story2_words = story2.split(\" \")\n",
    "print(\"Second Story words :\",story2_words)"
   ]
  },
  {
   "cell_type": "code",
   "execution_count": 39,
   "id": "2fefb3c3-a32f-4eea-836c-4108f58a43a4",
   "metadata": {},
   "outputs": [
    {
     "name": "stdout",
     "output_type": "stream",
     "text": [
      "First Story vocabulary : {'', 'them', 'timesbut', 'brothers', 'no', 'flew', 'would', 'far', 'at', 'thought', 'said', 'how', 'but', 'happily', 'awayi', 'was', 'built', 'unkind', 'noticed', 'think', 'feather', 'on', 'homeless', 'away', 'have', 'kingthe', 'king', 'live', 'as', 'saw', 'having', 'soon', 'bird', 'laughing', 'please', 'once', 'leave', 'all', 'courtdo', 'further', 'one', 'pay', 'birdshe', 'spent', 'court', 'their', 'feathers', 'shouting', 'use', 'angry', 'settled', 'rent', 'ordered', 'feathersyou', 'months', 'using', 'me', 'drove', 'inthe', 'fee', 'thehomeless', 'her', 'who', 'most', 'too', 'added', 'brought', 'theyhad', 'shivered', 'soldiers', 'lesson', 'theking’s', 'near', 'arrogant', 'banks', 'for', 'cool', 'belongs', 'swansto', 'deposit', 'treasury', 'humiliated', 'birds', 'i', 'they', 'seems', 'that', 'can', 'insulted', 'be', 'other', 'us', 'golden', 'beheaded', 'every', 'awaynever', 'a', 'kingdom', 'shelter', 'bring', 'day', 'areimpolite', 'hearing', 'shouted', 'do', 'soothing', 'went', 'and', 'you', 'not', 'purchased', 'decide', 'feathersthe', 'onceor', 'livedthere', 'royal', 'am', 'dreaming', 'decided', 'here', 'home', 'pleaded', 'gave', 'swans', 'six', 'to', 'lake', 'so', 'water', 'this', 'were', 'lives', 'time', 'my', 'will', 'o', 'with', 'we', 'of', 'he', 'make', 'down', 'his', 'collect', 'teach', 'begged', 'your', 'many', 'river', 'upon', 'humble', 'stop', 'there', 'fear', 'the', 'by', 'return', 'forever', 'give', 'came', 'in', 'depends'}\n",
      "Second Story vocabulary {'no', 'it', 'heavensurprised', 'thought', 'camethe', 'heavenhe', 'said', 'voicethe', 'but', '“do', '“now', 'was', 'heaven', 'relief', 'up', 'drinking', '“i', 'man', 'lived', 'our', 'after', 'on', 'perch', 'needed', 'captureme', 'said“you', 'king', 'goldenswan', 'as', 'saw', 'capture', 'soon', 'way', 'never', 'dawned', 'responsibleking', 'doingselfish', 'ago', 'then', '“dogood', 'all', 'voice', 'heard', 'peoplesuddenly', 'go', 'come', 'only', 'also', 'him', 'angry', 'asa', 'me', 'old', 'people', 'andyou', 'quite', 'done', 'show', 'andliked', 'takeme', 'good', 'swani', '“please', 'wouldcome', 'suppose', 'complainedone', 'help', 'for', 'miserable', 'because', 'take', 'duties', 'disappeared', 'street', 'i', 'must', 'messenger', 'life', 'long', 'hunt', 'comforts', 'carried', 'that', 'realized', 'kingbut', 'suddenly', 'serve', 'from', 'acts', 'havingwandered', 'fetch', 'ignoresthe', 'golden', 'therehe', 'gooddeeds', 'a', 'thirsty', 'lazy', 'eager', 'kingdom', 'day', 'into', 'deeds', 'does', 'has', '“our', 'went', 'and', 'you', 'forest', 'sometime', 'not', '“oh', 'nothing', 'some', 'became', 'am', 'carrying', 'tried', 'out', 'to', 'lake', 'water', 'disguised', 'theking', 'try', 'dutieswas', 'this', 'time', 'state', 'will', 'held', 'doing', 'needs', 'of', 'want', 'himself', 'stone', 'he', 'swan', 'his', 'care', 'selfish', 'bow', 'your', 'ofout', 'need', 'helping', 'if', 'replied', 'affairs', 'swan’s', 'there', 'the', 'by', 'an', 'hespotted', 'in'}\n"
     ]
    }
   ],
   "source": [
    "story1_vocab = set(story1_words)\n",
    "print(\"First Story vocabulary :\",story1_vocab)\n",
    "story2_vocab = set(story2_words)\n",
    "print(\"Second Story vocabulary\",story2_vocab)"
   ]
  },
  {
   "cell_type": "code",
   "execution_count": 40,
   "id": "9e5ecdca-b2b9-4b0d-9f3a-3524a369d454",
   "metadata": {},
   "outputs": [
    {
     "name": "stdout",
     "output_type": "stream",
     "text": [
      "Common Vocabulary : {'no', 'am', 'all', 'thought', 'said', 'but', 'i', 'to', 'lake', 'water', 'this', 'was', 'that', 'angry', 'time', 'will', 'me', 'of', 'golden', 'he', 'on', 'a', 'his', 'your', 'kingdom', 'day', 'king', 'as', 'saw', 'there', 'the', 'by', 'went', 'and', 'you', 'soon', 'in', 'not', 'for'}\n"
     ]
    }
   ],
   "source": [
    "common_vocab = story1_vocab & story2_vocab\n",
    "print(\"Common Vocabulary :\",common_vocab)"
   ]
  },
  {
   "cell_type": "code",
   "execution_count": null,
   "id": "a1514c43-afa4-48b3-9581-fc937d5e924d",
   "metadata": {},
   "outputs": [],
   "source": []
  }
 ],
 "metadata": {
  "kernelspec": {
   "display_name": "Python 3 (ipykernel)",
   "language": "python",
   "name": "python3"
  },
  "language_info": {
   "codemirror_mode": {
    "name": "ipython",
    "version": 3
   },
   "file_extension": ".py",
   "mimetype": "text/x-python",
   "name": "python",
   "nbconvert_exporter": "python",
   "pygments_lexer": "ipython3",
   "version": "3.9.13"
  }
 },
 "nbformat": 4,
 "nbformat_minor": 5
}
