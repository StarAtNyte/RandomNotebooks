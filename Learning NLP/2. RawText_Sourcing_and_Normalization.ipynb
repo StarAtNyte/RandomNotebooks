{
 "cells": [
  {
   "cell_type": "markdown",
   "id": "9129d080-6cce-4b3c-8d23-4554ac1acbc7",
   "metadata": {
    "tags": []
   },
   "source": [
    "### Getting ready…"
   ]
  },
  {
   "cell_type": "code",
   "execution_count": 1,
   "id": "96f5d7a7-82f7-4bd9-9468-0481c77b0725",
   "metadata": {},
   "outputs": [],
   "source": [
    "namesList = ['Tuffy' , 'Ali' , 'Nysha', 'Tim']\n",
    "sentence = 'My dog sleeps on sofa'"
   ]
  },
  {
   "cell_type": "code",
   "execution_count": 2,
   "id": "de89a081-1ed0-4ffd-a15c-e6b21d020bff",
   "metadata": {},
   "outputs": [
    {
     "name": "stdout",
     "output_type": "stream",
     "text": [
      "<class 'str'> : Tuffy;Ali;Nysha;Tim\n"
     ]
    }
   ],
   "source": [
    "names = ';'.join(namesList)\n",
    "print(type(names), ':' , names)"
   ]
  },
  {
   "cell_type": "code",
   "execution_count": 3,
   "id": "012874e9-6c5d-4432-9440-2c6edc32c5db",
   "metadata": {},
   "outputs": [
    {
     "name": "stdout",
     "output_type": "stream",
     "text": [
      "<class 'list'> : ['My', 'dog', 'sleeps', 'on', 'sofa']\n"
     ]
    }
   ],
   "source": [
    "wordList = sentence.split(' ')\n",
    "print((type(wordList)), ':' , wordList)"
   ]
  },
  {
   "cell_type": "code",
   "execution_count": 4,
   "id": "d2e007e8-50f0-4ae6-8053-081fbfe7cea7",
   "metadata": {},
   "outputs": [
    {
     "data": {
      "text/plain": [
       "'ganeshaganeshaganesha'"
      ]
     },
     "execution_count": 4,
     "metadata": {},
     "output_type": "execute_result"
    }
   ],
   "source": [
    "additionExample = 'ganesha' + 'ganesha' + 'ganesha'\n",
    "additionExample"
   ]
  },
  {
   "cell_type": "code",
   "execution_count": 5,
   "id": "bf6a10e3-24bc-44bc-8dc1-e411c3c4715b",
   "metadata": {},
   "outputs": [
    {
     "data": {
      "text/plain": [
       "'ganeshaganesha'"
      ]
     },
     "execution_count": 5,
     "metadata": {},
     "output_type": "execute_result"
    }
   ],
   "source": [
    "multiplicationExample = 'ganesha' *2\n",
    "multiplicationExample"
   ]
  },
  {
   "cell_type": "code",
   "execution_count": 6,
   "id": "76491648-32b4-43ea-aa37-d74996ccf909",
   "metadata": {},
   "outputs": [
    {
     "name": "stdout",
     "output_type": "stream",
     "text": [
      "y\n",
      "L\n"
     ]
    }
   ],
   "source": [
    "string = 'Python NLTK'\n",
    "print(string[1])\n",
    "print(string[-3])"
   ]
  },
  {
   "cell_type": "markdown",
   "id": "60f076e0-1dbb-4488-8409-9f03efe39b50",
   "metadata": {},
   "source": [
    "### Getting deeper with string operations"
   ]
  },
  {
   "cell_type": "code",
   "execution_count": 7,
   "id": "aafe8430-d555-4e20-a525-de51a09c4193",
   "metadata": {},
   "outputs": [],
   "source": [
    "string = 'NLTK Dolly Python'"
   ]
  },
  {
   "cell_type": "code",
   "execution_count": 8,
   "id": "87fef623-6f66-4c51-8d68-162d95724542",
   "metadata": {},
   "outputs": [
    {
     "name": "stdout",
     "output_type": "stream",
     "text": [
      "Substring ends at: NLTK\n"
     ]
    }
   ],
   "source": [
    "print('Substring ends at:' , string[:4])"
   ]
  },
  {
   "cell_type": "code",
   "execution_count": 9,
   "id": "383cf3f7-270f-491e-9ea6-ba56d2b3c8d9",
   "metadata": {},
   "outputs": [
    {
     "name": "stdout",
     "output_type": "stream",
     "text": [
      "Substring starts from: Python\n"
     ]
    }
   ],
   "source": [
    "print('Substring starts from:',string[11:] )"
   ]
  },
  {
   "cell_type": "code",
   "execution_count": 10,
   "id": "e184a05f-273f-4f31-b35a-f1da253e880a",
   "metadata": {},
   "outputs": [
    {
     "name": "stdout",
     "output_type": "stream",
     "text": [
      "Substring : Dolly\n"
     ]
    }
   ],
   "source": [
    "print('Substring :',string[5:10])"
   ]
  },
  {
   "cell_type": "code",
   "execution_count": 11,
   "id": "97d79f56-1292-411e-a49f-276787cb1448",
   "metadata": {},
   "outputs": [
    {
     "name": "stdout",
     "output_type": "stream",
     "text": [
      "Substring fancy: Dolly\n"
     ]
    }
   ],
   "source": [
    "print('Substring fancy:', string[-12:-7])"
   ]
  },
  {
   "cell_type": "code",
   "execution_count": 12,
   "id": "8ef898dd-b6b0-4acf-b3b0-1d04c5c812fa",
   "metadata": {},
   "outputs": [
    {
     "name": "stdout",
     "output_type": "stream",
     "text": [
      "Found NLTK\n"
     ]
    }
   ],
   "source": [
    "if 'NLTK' in string:\n",
    "    print('Found NLTK')"
   ]
  },
  {
   "cell_type": "code",
   "execution_count": 13,
   "id": "dacfc9a2-cc73-4619-b133-572f749a7062",
   "metadata": {},
   "outputs": [
    {
     "name": "stdout",
     "output_type": "stream",
     "text": [
      "Replaced String:  NLTK Dorothy Python\n"
     ]
    }
   ],
   "source": [
    "replaced = string.replace('Dolly', 'Dorothy')\n",
    "print(\"Replaced String: \", replaced)"
   ]
  },
  {
   "cell_type": "code",
   "execution_count": 14,
   "id": "ce2dc324-30a7-4c3e-b14b-6d133491dd15",
   "metadata": {},
   "outputs": [
    {
     "name": "stdout",
     "output_type": "stream",
     "text": [
      "N\n",
      "L\n",
      "T\n",
      "K\n",
      " \n",
      "D\n",
      "o\n",
      "r\n",
      "o\n",
      "t\n",
      "h\n",
      "y\n",
      " \n",
      "P\n",
      "y\n",
      "t\n",
      "h\n",
      "o\n",
      "n\n"
     ]
    }
   ],
   "source": [
    "for s in replaced:\n",
    "    print(s)"
   ]
  },
  {
   "cell_type": "markdown",
   "id": "9575f2b5-e5b9-4e1b-9c9f-207fcb7fe9cd",
   "metadata": {},
   "source": [
    "### Reading a PDF file in Python"
   ]
  },
  {
   "cell_type": "code",
   "execution_count": 15,
   "id": "114fcbfd-8fc8-4154-8794-5a0d072ebbfb",
   "metadata": {},
   "outputs": [
    {
     "name": "stdout",
     "output_type": "stream",
     "text": [
      "Requirement already satisfied: PyPDF2 in c:\\users\\khana\\anaconda3\\lib\\site-packages (2.11.1)\n",
      "Requirement already satisfied: typing-extensions>=3.10.0.0 in c:\\users\\khana\\anaconda3\\lib\\site-packages (from PyPDF2) (4.3.0)\n",
      "Note: you may need to restart the kernel to use updated packages.\n"
     ]
    }
   ],
   "source": [
    "pip install PyPDF2"
   ]
  },
  {
   "cell_type": "code",
   "execution_count": 16,
   "id": "b6ef486e-04f5-46e4-8540-13dda60c98e9",
   "metadata": {},
   "outputs": [],
   "source": [
    "from PyPDF2 import PdfFileReader"
   ]
  },
  {
   "cell_type": "code",
   "execution_count": 17,
   "id": "63842262-e648-4b2f-b3a1-c8d24c6fd5d1",
   "metadata": {},
   "outputs": [],
   "source": [
    "def getTextPDF(pdfFileName, password = ''):\n",
    "    read_pdf = PdfFileReader(pdfFileName)\n",
    "    if password != '':\n",
    "        read_pdf.decrypt(password)\n",
    "    text = []\n",
    "    for i in range(0,read_pdf.getNumPages()):\n",
    "        text.append(read_pdf.getPage(i).extractText())\n",
    "    return '\\n'.join(text)"
   ]
  },
  {
   "cell_type": "code",
   "execution_count": 18,
   "id": "4834054c-5486-4004-bbf8-4c53717eaa25",
   "metadata": {},
   "outputs": [
    {
     "name": "stdout",
     "output_type": "stream",
     "text": [
      "PDF 1: \n",
      " This is a sample PDF document I am using to demonstrate in the tutorial.  \n",
      "PDF 2: \n",
      " This is a sample PDF document  password protected.  \n"
     ]
    }
   ],
   "source": [
    "pdfFile = 'sample-one-line.pdf'\n",
    "pdfFileEncrypted = 'sample-one-line.protected.pdf'\n",
    "print('PDF 1: \\n',getTextPDF(pdfFile))\n",
    "print('PDF 2: \\n',getTextPDF(pdfFileEncrypted,'tuffy'))"
   ]
  },
  {
   "cell_type": "markdown",
   "id": "5e3960ca-3081-48bb-9ebd-263c08028101",
   "metadata": {},
   "source": [
    "### Reading Word documents in Python"
   ]
  },
  {
   "cell_type": "code",
   "execution_count": 19,
   "id": "85894930-3f2e-4812-8c65-17e7f89df9c8",
   "metadata": {},
   "outputs": [
    {
     "name": "stdout",
     "output_type": "stream",
     "text": [
      "Requirement already satisfied: python-docx in c:\\users\\khana\\anaconda3\\lib\\site-packages (0.8.11)\n",
      "Requirement already satisfied: lxml>=2.3.2 in c:\\users\\khana\\anaconda3\\lib\\site-packages (from python-docx) (4.9.1)\n",
      "Note: you may need to restart the kernel to use updated packages.\n"
     ]
    }
   ],
   "source": [
    "pip install python-docx"
   ]
  },
  {
   "cell_type": "code",
   "execution_count": 20,
   "id": "0f3f7b0c-fbab-45fd-bf95-754fa4fc56b7",
   "metadata": {},
   "outputs": [],
   "source": [
    "import docx"
   ]
  },
  {
   "cell_type": "code",
   "execution_count": 21,
   "id": "a64ff58d-4daf-49d5-a8b4-a7a35acfbb2d",
   "metadata": {},
   "outputs": [],
   "source": [
    "def getTextWord(wordFileName):\n",
    "    doc = docx.Document(wordFileName)\n",
    "    fullText = []\n",
    "    for para in doc.paragraphs:\n",
    "        fullText.append(para.text)\n",
    "    return '\\n'.join(fullText)"
   ]
  },
  {
   "cell_type": "code",
   "execution_count": 22,
   "id": "1def4884-5292-4f53-bc64-443d0fcef065",
   "metadata": {},
   "outputs": [
    {
     "name": "stdout",
     "output_type": "stream",
     "text": [
      "Document in full :\n",
      " This is a sample PDF document with some text in BOLD, some in ITALIC and some underlined. We are also embedding a Title down below.\n",
      "This is my TITLE.\n",
      "This is my third paragraph.\n"
     ]
    }
   ],
   "source": [
    "docName = 'sample-one-line.docx'\n",
    "print('Document in full :\\n',getTextWord(docName))"
   ]
  },
  {
   "cell_type": "code",
   "execution_count": 23,
   "id": "f6841e68-3ecd-400c-a5ba-630dd60b133c",
   "metadata": {},
   "outputs": [
    {
     "name": "stdout",
     "output_type": "stream",
     "text": [
      "Number of paragraphs : 3\n",
      "Paragraph 2: This is my TITLE.\n",
      "Paragraph 2 style: _ParagraphStyle('Title') id: 2383454373728\n"
     ]
    }
   ],
   "source": [
    "doc = docx.Document(docName)\n",
    "print('Number of paragraphs :',len(doc.paragraphs))\n",
    "print('Paragraph 2:',doc.paragraphs[1].text)\n",
    "print('Paragraph 2 style:',doc.paragraphs[1].style)"
   ]
  },
  {
   "cell_type": "code",
   "execution_count": 24,
   "id": "a791cb91-de32-450c-82b3-fceb2fcaa8ba",
   "metadata": {},
   "outputs": [
    {
     "name": "stdout",
     "output_type": "stream",
     "text": [
      "Paragraph 1: This is a sample PDF document with some text in BOLD, some in ITALIC and some underlined. We are also embedding a Title down below.\n",
      "Number of runs in paragraph 1: 8\n",
      "Run 0 : This is a sample PDF document with \n",
      "Run 1 : some text in BOLD\n",
      "Run 2 : , \n",
      "Run 3 : some in ITALIC\n",
      "Run 4 :  and \n",
      "Run 5 : some underlined.\n",
      "Run 6 :  We are also embedding a Title down below\n",
      "Run 7 : .\n"
     ]
    }
   ],
   "source": [
    "print('Paragraph 1:',doc.paragraphs[0].text)\n",
    "print('Number of runs in paragraph 1:',len(doc.paragraphs[0].runs))\n",
    "for idx, run in enumerate(doc.paragraphs[0].runs):\n",
    "    print('Run %s : %s' %(idx,run.text))"
   ]
  },
  {
   "cell_type": "code",
   "execution_count": 25,
   "id": "c1e74df7-3e0b-4f4a-a280-371c0740abc5",
   "metadata": {},
   "outputs": [
    {
     "name": "stdout",
     "output_type": "stream",
     "text": [
      "is Run 0 underlined: True\n",
      "is Run 2 bold: True\n",
      "is Run 7 italic: True\n"
     ]
    }
   ],
   "source": [
    "print('is Run 0 underlined:',doc.paragraphs[0].runs[5].underline)\n",
    "print('is Run 2 bold:',doc.paragraphs[0].runs[1].bold)\n",
    "print('is Run 7 italic:',doc.paragraphs[0].runs[3].italic)"
   ]
  },
  {
   "cell_type": "markdown",
   "id": "7736ff3f-4554-46ca-8767-134e9af0cd0b",
   "metadata": {},
   "source": [
    "### Taking PDF, DOCX, and plain text files and creating a user-defined corpus from them"
   ]
  },
  {
   "cell_type": "code",
   "execution_count": 26,
   "id": "8abac66e-1010-4a0c-bfe9-607c7a3bfa43",
   "metadata": {},
   "outputs": [],
   "source": [
    "import os\n",
    "from nltk.corpus.reader.plaintext import PlaintextCorpusReader"
   ]
  },
  {
   "cell_type": "code",
   "execution_count": 27,
   "id": "927b888b-45b3-4003-8730-b7f084d2e106",
   "metadata": {},
   "outputs": [],
   "source": [
    "def getText(txtFileName):\n",
    "    file = open(txtFileName, 'r')\n",
    "    return file.read()"
   ]
  },
  {
   "cell_type": "code",
   "execution_count": 28,
   "id": "df862767-7fd3-4082-970f-7fae3e69fb84",
   "metadata": {},
   "outputs": [],
   "source": [
    "newCorpusDir = 'mycorpus/'\n",
    "if not os.path.isdir(newCorpusDir):\n",
    "    os.mkdir(newCorpusDir)"
   ]
  },
  {
   "cell_type": "code",
   "execution_count": 29,
   "id": "00d9b48d-558f-4efc-be9d-1abe40b4dfe8",
   "metadata": {},
   "outputs": [],
   "source": [
    "txt1 = getText('sample_feed.txt')\n",
    "txt2 = getTextPDF('sample-pdf.pdf')\n",
    "txt3 = getTextWord('sample-one-line.docx')"
   ]
  },
  {
   "cell_type": "code",
   "execution_count": 30,
   "id": "7b27e57f-0476-4d2a-87ca-281e58f4b1e5",
   "metadata": {},
   "outputs": [],
   "source": [
    "files = [txt1,txt2,txt3]\n",
    "for i, f in enumerate(files):\n",
    "    with open(newCorpusDir+str(i)+'.txt', 'w') as fout:\n",
    "        fout.write(f)"
   ]
  },
  {
   "cell_type": "code",
   "execution_count": 31,
   "id": "ec4f94ff-9f1f-487d-b11a-4fa01b29eb8f",
   "metadata": {},
   "outputs": [],
   "source": [
    "newCorpus = PlaintextCorpusReader(newCorpusDir, '.*')"
   ]
  },
  {
   "cell_type": "code",
   "execution_count": 32,
   "id": "6975e391-a32c-4c1d-81d3-b3a0f905a51d",
   "metadata": {},
   "outputs": [
    {
     "name": "stdout",
     "output_type": "stream",
     "text": [
      "['This', 'is', 'a', 'sample', 'PDF', 'document', ...]\n",
      "[['Five', 'months', '.'], ['That', \"'\", 's', 'how', 'long', 'it', \"'\", 's', 'been', 'since', 'Mass', 'Effect', ':', 'Andromeda', 'launched', ',', 'and', 'that', \"'\", 's', 'how', 'long', 'it', 'took', 'BioWare', 'Montreal', 'to', 'admit', 'that', 'nothing', 'more', 'can', 'be', 'done', 'with', 'the', 'ailing', 'game', \"'\", 's', 'story', 'mode', '.'], ...]\n",
      "[[['This', 'is', 'a', 'sample', 'PDF', 'document', 'with', 'some', 'text', 'in', 'BOLD', ',', 'some', 'in', 'ITALIC', 'and', 'some', 'underlined', '.'], ['We', 'are', 'also', 'embedding', 'a', 'Title', 'down', 'below', '.'], ['This', 'is', 'my', 'TITLE', '.'], ['This', 'is', 'my', 'third', 'paragraph', '.']]]\n"
     ]
    }
   ],
   "source": [
    "print(newCorpus.words())\n",
    "print(newCorpus.sents(newCorpus.fileids()[1]))\n",
    "print(newCorpus.paras(newCorpus.fileids()[0]))"
   ]
  },
  {
   "cell_type": "markdown",
   "id": "007cbdbc-ad54-4246-9e36-7e9a8df60706",
   "metadata": {},
   "source": [
    "### Read contents from an RSS feed"
   ]
  },
  {
   "cell_type": "code",
   "execution_count": 33,
   "id": "263ee862-a438-40b9-9a6f-61eb03ca09b6",
   "metadata": {},
   "outputs": [
    {
     "name": "stdout",
     "output_type": "stream",
     "text": [
      "Collecting feedparser\n",
      "  Downloading feedparser-6.0.10-py3-none-any.whl (81 kB)\n",
      "     -------------------------------------- 81.1/81.1 kB 506.2 kB/s eta 0:00:00\n",
      "Collecting sgmllib3k\n",
      "  Downloading sgmllib3k-1.0.0.tar.gz (5.8 kB)\n",
      "  Preparing metadata (setup.py): started\n",
      "  Preparing metadata (setup.py): finished with status 'done'\n",
      "Building wheels for collected packages: sgmllib3k\n",
      "  Building wheel for sgmllib3k (setup.py): started\n",
      "  Building wheel for sgmllib3k (setup.py): finished with status 'done'\n",
      "  Created wheel for sgmllib3k: filename=sgmllib3k-1.0.0-py3-none-any.whl size=6048 sha256=aef4fa8ca16cae66ff2a15b18b2c78673034246483afb231515e0538b68f93a1\n",
      "  Stored in directory: c:\\users\\khana\\appdata\\local\\pip\\cache\\wheels\\65\\7a\\a7\\78c287f64e401255dff4c13fdbc672fed5efbfd21c530114e1\n",
      "Successfully built sgmllib3k\n",
      "Installing collected packages: sgmllib3k, feedparser\n",
      "Successfully installed feedparser-6.0.10 sgmllib3k-1.0.0\n",
      "Note: you may need to restart the kernel to use updated packages.\n"
     ]
    }
   ],
   "source": [
    "pip install feedparser"
   ]
  },
  {
   "cell_type": "code",
   "execution_count": 34,
   "id": "386676f1-9ee1-4084-bc03-5bbd640b9816",
   "metadata": {},
   "outputs": [],
   "source": [
    "import feedparser"
   ]
  },
  {
   "cell_type": "code",
   "execution_count": 36,
   "id": "5e9d86fe-f787-43f0-8e13-1feed97c84ca",
   "metadata": {},
   "outputs": [],
   "source": [
    "myFeed = feedparser.parse(\"http://feeds.mashable.com/Mashable\")"
   ]
  },
  {
   "cell_type": "code",
   "execution_count": 38,
   "id": "4fffed3c-07e3-48be-8ad7-16b8d131aa8f",
   "metadata": {},
   "outputs": [
    {
     "data": {
      "text/plain": [
       "'Mashable'"
      ]
     },
     "execution_count": 38,
     "metadata": {},
     "output_type": "execute_result"
    }
   ],
   "source": [
    "myFeed['feed']['title']"
   ]
  },
  {
   "cell_type": "code",
   "execution_count": 39,
   "id": "f82988d0-7d87-416c-813c-dbd661ea0e3e",
   "metadata": {},
   "outputs": [
    {
     "data": {
      "text/plain": [
       "100"
      ]
     },
     "execution_count": 39,
     "metadata": {},
     "output_type": "execute_result"
    }
   ],
   "source": [
    "len(myFeed.entries)"
   ]
  },
  {
   "cell_type": "code",
   "execution_count": 40,
   "id": "541907ac-10b9-4bc0-96d9-de94d892cfb1",
   "metadata": {},
   "outputs": [
    {
     "name": "stdout",
     "output_type": "stream",
     "text": [
      "Post Title:  'Quordle' today: Here are the answers and hints for November 1\n"
     ]
    }
   ],
   "source": [
    "post = myFeed.entries[0]\n",
    "print('Post Title: ', post.title)"
   ]
  },
  {
   "cell_type": "code",
   "execution_count": 58,
   "id": "08748f35-488b-48b2-a94c-a3d6d8b51a20",
   "metadata": {},
   "outputs": [
    {
     "data": {
      "text/plain": [
       "'https://mashable.com/article/quordle-today-word-answer-november-1'"
      ]
     },
     "execution_count": 58,
     "metadata": {},
     "output_type": "execute_result"
    }
   ],
   "source": [
    "post.link\n"
   ]
  },
  {
   "cell_type": "code",
   "execution_count": 57,
   "id": "7a63a2df-c44d-4446-914f-f5fbaf250d65",
   "metadata": {},
   "outputs": [
    {
     "data": {
      "text/plain": [
       "'<img alt=\"A closeup of a woman\\'s hands as she plays \\'Quordle\\' on a smartphone\" src=\"https://helios-i.mashable.com/imagery/articles/07fFPYrrNm0fzrOhEuptDyD/hero-image.jpg\" /><p>If <em>Quordle</em> is a little too challenging today, you\\'ve come to the right place for hints. There aren\\'t just hints here, but the whole <em>Quordle</em> solution. Scroll to the bottom of this page, and there it is. But are you sure you need all four answers? Maybe you just need a strategy guide. Either way, scroll down, and you\\'ll get what you need. </p><h2>What is <em>Quordle</em>?</h2><p><em>Quordle</em> is a five-letter word guessing game similar to <em>Wordle</em>, except each guess applies letters to four words at the same time. You get nine guesses instead of six to correctly guess all four words. It looks like playing four <em>Wordle</em> games at the same time, and that is essentially what it is. But it\\'s not nearly as intimidating as it sounds.</p><h2>Is <em>Quordle</em> harder than Wordle?</h2><p>Yes, though not diabolically so.</p><h2>Where did <em>Quordle</em> come from?</h2><p>Amid the <em>Wordle</em> boom of late 2021 and early 2022, when everyone was learning to love free, in-browser, once-a-day word guessing games, creator Freddie Meyer says he took inspiration from one of the first big <em>Wordle</em> variations, <em>Dordle</em> &mdash; the one where you essentially play two <em>Wordles</em> at once. He took things up a notch, and <a href=\"https://www.quordle.com/#/practice?overlay=tutorial\" target=\"_blank\">released Quordle on January 30</a>. Meyer\\'s creation was covered in <a href=\"https://www.theguardian.com/games/2022/feb/06/worried-about-losing-wordle-here-are-some-alternatives-just-in-case\" target=\"_blank\"><em>The Guardian</em></a> six days later, and now, according to Meyer, it attracts millions of daily users. Today, Meyer earns <a href=\"https://www.patreon.com/quordle\" target=\"_blank\">modest revenue</a> from Patreon, where dedicated <em>Quordle</em> fans can donate to keep their favorite puzzle game running.&nbsp;</p><h2>How is <em>Quordle</em> pronounced?</h2><p>&ldquo;Kwordle.&rdquo; It should rhyme with &ldquo;Wordle,&rdquo; and definitely should not be pronounced exactly like \"curdle.&rdquo;</p><h2>Is <em>Quordle</em> strategy different from <em>Wordle</em>?</h2><p>Yes and no.</p><p>Your starting strategy should be the same as with <em>Wordle</em>. In fact, if you have a favorite <em>Wordle</em> opening word, there&rsquo;s no reason to change that here. We suggest something rich in vowels, featuring common letters like C, R, and N. But you do you.</p><p>After your first guess, however, you&rsquo;ll notice things getting out of control if you play <em>Quordle</em> exactly like <em>Wordle</em>.</p><h2>What should I do in <em>Quordle</em> that I don&rsquo;t do in <em>Wordle</em>?</h2><p>Solving a <em>Wordle</em> puzzle can famously come down to a series of single letter-change variations. If you&rsquo;ve narrowed it down to &ldquo;-IGHT,&rdquo; you could guess &ldquo;MIGHT&rdquo; &ldquo;NIGHT&rdquo; &ldquo;LIGHT&rdquo; and &ldquo;SIGHT&rdquo; and one of those will probably be the solution &mdash; though this is also a famous way to end up losing in <em>Wordle</em>, particularly if you play on &ldquo;<a href=\"https://mashable.com/article/wordle-hard-mode#:~:text=How%20to%20get%20\\'hard%20mode,you\\'re%20off%20and%20away.\" target=\"_blank\">hard mode</a>.&rdquo; In <em>Quordle</em>, however, this sort of single-letter winnowing is a deadly trap, and it hints at the important strategic difference between <em>Wordle</em> and <em>Quordle</em>: In <em>Quordle</em>, you can\\'t afford to waste guesses unless you\\'re eliminating as many letters as possible at all times.&nbsp;</p><p>Guessing a completely random word that you already know isn\\'t the solution, just to eliminate three or four possible letters you haven&rsquo;t tried yet, is thought of as a desperate, latch-ditch move in <em>Wordle</em>. In <em>Quordle</em>, however, it\\'s a normal part of the player\\'s strategic toolset.</p><h2>Is there a way to get the answer faster?</h2><p>In my experience <em>Quordle</em> can be a slow game, sometimes dragging out longer than it would take to play <em>Wordle</em> four times. But a sort of blunt-force guessing approach can speed things up. The following strategy also works with <em>Wordle</em> if you only want the solution, and don&rsquo;t care about having the fewest possible guesses:</p><p>Try starting with a series of words that puts all the vowels (including Y) on the board, along with some other common letters. We\\'ve had good luck with the three words: &ldquo;NOTES,&rdquo; &ldquo;ACRID,&rdquo; and &ldquo;LUMPY.&rdquo; YouTuber <a href=\"https://www.youtube.com/watch?v=cV6dXlvxZJ8\" target=\"_blank\">DougMansLand</a> suggests four words: &ldquo;CANOE,&rdquo; &ldquo;SKIRT,&rdquo; &ldquo;PLUMB,&rdquo; and &ldquo;FUDGY.&rdquo;</p><p>Most of the alphabet is now eliminated, and you&rsquo;ll only have the ability to make one or two wrong guesses if you use this strategy. But in most cases you&rsquo;ll have all the information you need to guess the remaining words without any wrong guesses.</p><p>If strategy isn\\'t helping, and you\\'re still stumped, here are some hints:</p><h2>Are there any double or triple letters in today&rsquo;s <em>Quordle</em> words?</h2><p>Two words have letters that occur twice.</p><h2>Are any rare letters being used in today&rsquo;s <em>Quordle</em> like Q or Z?</h2><p>No.</p><h2>What do today&rsquo;s <em>Quordle</em> words start with?</h2><p>C, M, A, and S.</p><h2>What are the answers for today&rsquo;s <em>Quordle</em>?</h2><p>Are you sure you want to know?</p><p>There&rsquo;s still time to turn back.</p><p>OK, you asked for it. The answers are:</p><ol><li><p>CHAIR</p></li><li><p>MAUVE</p></li><li><p>ABBOT&nbsp;</p></li><li><p>STILT</p></li></ol>'"
      ]
     },
     "execution_count": 57,
     "metadata": {},
     "output_type": "execute_result"
    }
   ],
   "source": [
    "post.description\n"
   ]
  },
  {
   "cell_type": "markdown",
   "id": "91f2f359-4e35-4e87-b3e6-954043e1f8e5",
   "metadata": {},
   "source": [
    "### HTML parsing using BeautifulSoup"
   ]
  },
  {
   "cell_type": "code",
   "execution_count": 59,
   "id": "fd081cfa-bec5-4838-9796-1ac59710f469",
   "metadata": {},
   "outputs": [
    {
     "name": "stdout",
     "output_type": "stream",
     "text": [
      "Requirement already satisfied: beautifulsoup4 in c:\\users\\khana\\anaconda3\\lib\\site-packages (4.11.1)\n",
      "Requirement already satisfied: soupsieve>1.2 in c:\\users\\khana\\anaconda3\\lib\\site-packages (from beautifulsoup4) (2.3.1)\n",
      "Note: you may need to restart the kernel to use updated packages.\n"
     ]
    }
   ],
   "source": [
    "pip install beautifulsoup4"
   ]
  },
  {
   "cell_type": "code",
   "execution_count": 60,
   "id": "085e0be9-bd8a-4aac-8103-67d1b1e21978",
   "metadata": {},
   "outputs": [],
   "source": [
    "from bs4 import BeautifulSoup"
   ]
  },
  {
   "cell_type": "code",
   "execution_count": 64,
   "id": "4fb20a3d-ced2-4a79-bb27-35f0265c2897",
   "metadata": {},
   "outputs": [],
   "source": [
    "html_doc = open('sample-html.html', 'r').read()\n",
    "soup = BeautifulSoup(html_doc, 'html.parser')"
   ]
  },
  {
   "cell_type": "code",
   "execution_count": 65,
   "id": "47b475e9-2e75-42d6-a2d7-762e5445cca5",
   "metadata": {},
   "outputs": [
    {
     "name": "stdout",
     "output_type": "stream",
     "text": [
      "Full Text HTML Stripped:\n",
      "\n",
      "\n",
      "\n",
      "Sample Web Page\n",
      "\n",
      "\n",
      "\n",
      "Main heading\n",
      "This is a very simple HTML document\n",
      "Improve your image by including an image. \n",
      "\n",
      "Add a link to your favorite Web site.\n",
      " This is a new sentence without a paragraph break, in bold italics.\n",
      "\n",
      "\n"
     ]
    }
   ],
   "source": [
    "print(\"Full Text HTML Stripped:\")\n",
    "print(soup.get_text())"
   ]
  },
  {
   "cell_type": "code",
   "execution_count": 66,
   "id": "5927b58f-1896-4ace-9a44-e7d951d688e1",
   "metadata": {},
   "outputs": [
    {
     "name": "stdout",
     "output_type": "stream",
     "text": [
      "Accessing the <title> tag : <title>Sample Web Page</title>\n"
     ]
    }
   ],
   "source": [
    "print('Accessing the <title> tag :', end=' ')\n",
    "print(soup.title)"
   ]
  },
  {
   "cell_type": "code",
   "execution_count": null,
   "id": "95a5c9f0-b792-4bb4-9796-48b1bfb2a2a0",
   "metadata": {},
   "outputs": [],
   "source": []
  }
 ],
 "metadata": {
  "kernelspec": {
   "display_name": "Python 3 (ipykernel)",
   "language": "python",
   "name": "python3"
  },
  "language_info": {
   "codemirror_mode": {
    "name": "ipython",
    "version": 3
   },
   "file_extension": ".py",
   "mimetype": "text/x-python",
   "name": "python",
   "nbconvert_exporter": "python",
   "pygments_lexer": "ipython3",
   "version": "3.9.13"
  }
 },
 "nbformat": 4,
 "nbformat_minor": 5
}
