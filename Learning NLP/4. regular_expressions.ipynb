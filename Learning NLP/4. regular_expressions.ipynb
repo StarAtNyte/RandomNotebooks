{
 "cells": [
  {
   "cell_type": "markdown",
   "id": "b15ab108-cd7f-4a25-8e53-00f578944af2",
   "metadata": {},
   "source": [
    "## Regular Expressions"
   ]
  },
  {
   "cell_type": "markdown",
   "id": "4b3fbb03-c388-4759-a11e-8817d04e220d",
   "metadata": {
    "jp-MarkdownHeadingCollapsed": true,
    "tags": []
   },
   "source": [
    "### Let's look at the aforementioned recipes in detail. Regular expression – learning to use *, +, and ?"
   ]
  },
  {
   "cell_type": "markdown",
   "id": "436cf43d-ee1c-47db-a800-e97f9a51311d",
   "metadata": {},
   "source": [
    "We start off with a recipe that will elaborate the use of the , +, and ? operators in regular expressions. These short-hand operators are more commonly known as wild cards,and also zero or more (*) one or more (+), and zero or one (?) for distinction."
   ]
  },
  {
   "cell_type": "code",
   "execution_count": 1,
   "id": "5d318419-412f-4ab7-954d-570e5e1dc9ae",
   "metadata": {},
   "outputs": [],
   "source": [
    "import re"
   ]
  },
  {
   "cell_type": "code",
   "execution_count": 3,
   "id": "571c6cae-e937-472a-8d3e-416309a38fa5",
   "metadata": {},
   "outputs": [],
   "source": [
    "def text_match(text, patterns):\n",
    "    if re.search(patterns, text):\n",
    "        return 'Found a match!'\n",
    "    else:\n",
    "        return 'Not matched!'\n",
    "    "
   ]
  },
  {
   "cell_type": "code",
   "execution_count": 4,
   "id": "b3a0aeca-dbba-48c0-89bd-e925c5bd7553",
   "metadata": {},
   "outputs": [
    {
     "name": "stdout",
     "output_type": "stream",
     "text": [
      "Found a match!\n",
      "Found a match!\n",
      "Found a match!\n"
     ]
    }
   ],
   "source": [
    "print(text_match(\"ac\", \"ab?\"))\n",
    "print(text_match(\"abc\", \"ab?\"))\n",
    "print(text_match(\"abbc\", \"ab?\"))"
   ]
  },
  {
   "cell_type": "code",
   "execution_count": 5,
   "id": "0b62bf6b-1d2e-4ace-8f47-7bb4272da457",
   "metadata": {},
   "outputs": [
    {
     "name": "stdout",
     "output_type": "stream",
     "text": [
      "Found a match!\n",
      "Found a match!\n",
      "Found a match!\n"
     ]
    }
   ],
   "source": [
    "print(text_match(\"ac\", \"ab*\"))\n",
    "print(text_match(\"abc\", \"ab*\"))\n",
    "print(text_match(\"abbc\", \"ab*\"))"
   ]
  },
  {
   "cell_type": "code",
   "execution_count": 6,
   "id": "10fc54cc-d371-4c29-a421-611d828a122d",
   "metadata": {},
   "outputs": [
    {
     "name": "stdout",
     "output_type": "stream",
     "text": [
      "Not matched!\n",
      "Found a match!\n",
      "Found a match!\n"
     ]
    }
   ],
   "source": [
    "print(text_match(\"ac\", \"ab+\"))\n",
    "print(text_match(\"abc\", \"ab+\"))\n",
    "print(text_match(\"abbc\", \"ab+\"))"
   ]
  },
  {
   "cell_type": "code",
   "execution_count": 7,
   "id": "ba19723e-528d-4b59-a1f9-10a91bef4357",
   "metadata": {},
   "outputs": [
    {
     "name": "stdout",
     "output_type": "stream",
     "text": [
      "Found a match!\n"
     ]
    }
   ],
   "source": [
    "print(text_match(\"abbc\", \"ab{2}\"))"
   ]
  },
  {
   "cell_type": "code",
   "execution_count": 8,
   "id": "d1d5af3e-cec8-4ca3-ab4a-c6e47504a4cc",
   "metadata": {},
   "outputs": [
    {
     "name": "stdout",
     "output_type": "stream",
     "text": [
      "Found a match!\n"
     ]
    }
   ],
   "source": [
    "print(text_match(\"aabbbbc\", \"ab{3,5}?\"))"
   ]
  },
  {
   "cell_type": "markdown",
   "id": "10dc3fb9-25fb-4690-9f87-6e5be3990f73",
   "metadata": {
    "jp-MarkdownHeadingCollapsed": true,
    "tags": []
   },
   "source": [
    "### Regular expression – learning to use $ and ^, and the non-start and non-end of a word"
   ]
  },
  {
   "cell_type": "code",
   "execution_count": 9,
   "id": "2ced3f4f-5afb-43de-a3ea-603dd9e1c46c",
   "metadata": {},
   "outputs": [
    {
     "name": "stdout",
     "output_type": "stream",
     "text": [
      "Found a match!\n"
     ]
    }
   ],
   "source": [
    "print(text_match(\"abc\",\"^a.*c$\"))"
   ]
  },
  {
   "cell_type": "markdown",
   "id": "f1f15df7-bdcb-4f5f-8c4c-bc672975dc31",
   "metadata": {},
   "source": [
    "Let's look at this pattern, ^a.*c$. This means: start with a, followed by zero or\n",
    "more of any characters, and end with c.\n",
    "\n",
    "The dot matches any character except a newline in default mode; that\n",
    "is, when you say .*, it means zero or more occurrences of any character."
   ]
  },
  {
   "cell_type": "code",
   "execution_count": 10,
   "id": "c6471631-6e00-4cc4-8981-d17008b14b4a",
   "metadata": {},
   "outputs": [
    {
     "name": "stdout",
     "output_type": "stream",
     "text": [
      "Begin with a word\n",
      "Found a match!\n"
     ]
    }
   ],
   "source": [
    "print(\"Begin with a word\")\n",
    "print(text_match(\"Tuffy eats pie, Loki eats peas!\", \"^\\w+\"))"
   ]
  },
  {
   "cell_type": "markdown",
   "id": "11df66d4-572c-45d3-9f7e-161665952e69",
   "metadata": {},
   "source": [
    "\\w stands for any alphanumeric character and underscore. The pattern says: start\n",
    "with (^) any alphanumeric character (\\w) and one or more occurrences of it (+).\n",
    "The output:"
   ]
  },
  {
   "cell_type": "code",
   "execution_count": 11,
   "id": "4b845459-b46f-4dc5-9c85-dab8a498361e",
   "metadata": {},
   "outputs": [
    {
     "name": "stdout",
     "output_type": "stream",
     "text": [
      "End with a word and optional punctuation\n",
      "Found a match!\n"
     ]
    }
   ],
   "source": [
    "print(\"End with a word and optional punctuation\")\n",
    "print(text_match(\"Tuffy eats pie, Loki eats peas!\", \"\\w+\\S*?$\"))"
   ]
  },
  {
   "cell_type": "markdown",
   "id": "ab55f511-ce93-42c2-94fb-158281fd5a93",
   "metadata": {},
   "source": [
    "The pattern means one or more occurrences of \\w, followed by zero or more\n",
    "occurrences of \\S, and that should be falling towards the end of the input text. To\n",
    "understand \\S (capital S), we must first understand \\s, which is all whitespace\n",
    "characters. \\S is the reverse or the anti-set of \\s, which when followed by \\w\n",
    "translates to looking for a punctuation:"
   ]
  },
  {
   "cell_type": "code",
   "execution_count": 12,
   "id": "4dba7869-d20f-46cb-a68b-b59c039a7c95",
   "metadata": {},
   "outputs": [
    {
     "name": "stdout",
     "output_type": "stream",
     "text": [
      "Finding a word which contains character, not start or end of the word\n",
      "Found a match!\n"
     ]
    }
   ],
   "source": [
    "print(\"Finding a word which contains character, not start or end of the word\")\n",
    "print(text_match(\"Tuffy eats pie, Loki eats peas!\", \"\\Bu\\B\"))"
   ]
  },
  {
   "cell_type": "markdown",
   "id": "99ed1bbc-7f11-4138-a3c9-6b3ee87ab988",
   "metadata": {},
   "source": [
    "For decoding this pattern, \\B is a anti-set or reverse of \\b. The \\b matches an\n",
    "empty string at the beginning or end of a word, and we have already seen what a\n",
    "word is. Hence, \\B will match inside the word and it will match any word in our\n",
    "input string that contains character u:"
   ]
  },
  {
   "cell_type": "markdown",
   "id": "95802cf1-fd57-457e-ad65-815fbf2129c9",
   "metadata": {
    "jp-MarkdownHeadingCollapsed": true,
    "tags": []
   },
   "source": [
    "### Searching multiple literal strings and substring occurrences"
   ]
  },
  {
   "cell_type": "code",
   "execution_count": 13,
   "id": "8c9dbe01-f4df-428d-a6fa-6661aa2879d6",
   "metadata": {},
   "outputs": [],
   "source": [
    "patterns = ['Tuffy', 'Pie', 'Loki']\n",
    "text = 'Tuffy eats pie, Loki eats peas'"
   ]
  },
  {
   "cell_type": "code",
   "execution_count": 14,
   "id": "233b1410-e9f0-4847-8760-a3a28da5854c",
   "metadata": {},
   "outputs": [
    {
     "name": "stdout",
     "output_type": "stream",
     "text": [
      "Searching for \"Tuffy\" in \"Tuffy eats pie, Loki eats peas\" -&gt;\n",
      "Found!\n",
      "Searching for \"Pie\" in \"Tuffy eats pie, Loki eats peas\" -&gt;\n",
      "Not Found!\n",
      "Searching for \"Loki\" in \"Tuffy eats pie, Loki eats peas\" -&gt;\n",
      "Found!\n"
     ]
    }
   ],
   "source": [
    "for pattern in patterns:\n",
    "    print('Searching for \"%s\" in \"%s\" -&gt;' % (pattern, text),)\n",
    "    if re.search(pattern, text):\n",
    "        print('Found!')\n",
    "    else:\n",
    "        print('Not Found!')"
   ]
  },
  {
   "cell_type": "code",
   "execution_count": 16,
   "id": "fdd15a6b-7c02-4730-8833-bdb050130419",
   "metadata": {},
   "outputs": [],
   "source": [
    "text = 'Diwali is a festival of lights, Holi is a festival of colors!'\n",
    "pattern = 'festival'"
   ]
  },
  {
   "cell_type": "code",
   "execution_count": 17,
   "id": "6e44071c-fdbe-43ef-b276-7f1b4b8d3bbc",
   "metadata": {},
   "outputs": [
    {
     "name": "stdout",
     "output_type": "stream",
     "text": [
      "Found \"festival\" at 12:20\n",
      "Found \"festival\" at 42:50\n"
     ]
    }
   ],
   "source": [
    "for match in re.finditer(pattern, text):\n",
    "    s = match.start()\n",
    "    e = match.end()\n",
    "    print('Found \"%s\" at %d:%d' %(text[s:e],s,e))"
   ]
  },
  {
   "cell_type": "markdown",
   "id": "a175a5c7-d090-4995-b559-e1b16d8edcc1",
   "metadata": {
    "jp-MarkdownHeadingCollapsed": true,
    "tags": []
   },
   "source": [
    "### Learning to create date regex and a set of characters or ranges of character"
   ]
  },
  {
   "cell_type": "code",
   "execution_count": 22,
   "id": "b3ac4ae2-23b0-4ffb-a2f9-d143d20cc5f8",
   "metadata": {},
   "outputs": [],
   "source": [
    "url=\"http://www.telegraph.co.uk/formula-1/2017/10/28/mexican-grand-prix-2017-time-does-start-tv-channel-odds-lewis1/\"\n",
    "date_regex = '/(\\d{4})/(\\d{1,2})/(\\d{1,2})/'"
   ]
  },
  {
   "cell_type": "code",
   "execution_count": 25,
   "id": "71aeac6a-ac7b-4689-a940-589a8b6b3232",
   "metadata": {},
   "outputs": [
    {
     "name": "stdout",
     "output_type": "stream",
     "text": [
      "Date found in the URL : [('2017', '10', '28')]\n"
     ]
    }
   ],
   "source": [
    "print(\"Date found in the URL :\", re.findall(date_regex, url))"
   ]
  },
  {
   "cell_type": "code",
   "execution_count": 26,
   "id": "3899738c-dab4-4641-b18a-732046317481",
   "metadata": {},
   "outputs": [],
   "source": [
    "def is_allowed_specific_char(string):\n",
    "    charRe = re.compile(r'[^a-zA-z0-9.]')\n",
    "    string = charRe.search(string)\n",
    "    return not bool(string)"
   ]
  },
  {
   "cell_type": "code",
   "execution_count": 27,
   "id": "583039df-aeab-487f-be8d-545596037c2a",
   "metadata": {},
   "outputs": [
    {
     "name": "stdout",
     "output_type": "stream",
     "text": [
      "True\n",
      "False\n"
     ]
    }
   ],
   "source": [
    "print(is_allowed_specific_char(\"ABCDEFabcdef123450.\"))\n",
    "print(is_allowed_specific_char(\"*&%@#!}{\"))"
   ]
  },
  {
   "cell_type": "markdown",
   "id": "bb46100b-55ee-4326-9970-7e89c89900fb",
   "metadata": {
    "jp-MarkdownHeadingCollapsed": true,
    "tags": []
   },
   "source": [
    "### Find all five-character words and make abbreviations in some sentences"
   ]
  },
  {
   "cell_type": "code",
   "execution_count": 28,
   "id": "3f624806-de92-4343-aeb5-105701fa93b1",
   "metadata": {},
   "outputs": [
    {
     "name": "stdout",
     "output_type": "stream",
     "text": [
      "21 Ramkrishna Rd\n"
     ]
    }
   ],
   "source": [
    "street = '21 Ramkrishna Road'\n",
    "print(re.sub('Road', 'Rd', street))"
   ]
  },
  {
   "cell_type": "code",
   "execution_count": 29,
   "id": "bac2f0ba-8f7c-47c7-ac24-97bb2aaa08b4",
   "metadata": {},
   "outputs": [
    {
     "name": "stdout",
     "output_type": "stream",
     "text": [
      "['light', 'color']\n"
     ]
    }
   ],
   "source": [
    "text = 'Diwali is a festival of light, Holi is a festival of color!'\n",
    "print(re.findall(r\"\\b\\w{5}\\b\", text))"
   ]
  },
  {
   "cell_type": "markdown",
   "id": "e9abef7c-466f-4610-a5e0-55c1cc01040b",
   "metadata": {
    "jp-MarkdownHeadingCollapsed": true,
    "tags": []
   },
   "source": [
    "### Learning to write your own regex tokenizer"
   ]
  },
  {
   "cell_type": "code",
   "execution_count": 30,
   "id": "6b8bd904-99f6-4ee0-80ad-e670e49c3886",
   "metadata": {},
   "outputs": [
    {
     "name": "stdout",
     "output_type": "stream",
     "text": [
      "['I', 'am', 'big!', \"It's\", 'the', 'pictures', 'that', 'got', 'small.']\n"
     ]
    }
   ],
   "source": [
    "raw = \"I am big! It's the pictures that got small.\"\n",
    "print(re.split(r' +', raw))"
   ]
  },
  {
   "cell_type": "code",
   "execution_count": 31,
   "id": "bb634c19-bde9-4e72-b9ee-343d67be8f23",
   "metadata": {},
   "outputs": [
    {
     "name": "stdout",
     "output_type": "stream",
     "text": [
      "['I', 'am', 'big', 'It', 's', 'the', 'pictures', 'that', 'got', 'small', '']\n"
     ]
    }
   ],
   "source": [
    "print(re.split(r'\\W+', raw))"
   ]
  },
  {
   "cell_type": "code",
   "execution_count": 32,
   "id": "43a3583d-8697-4e0d-8ae9-36b20bd633f1",
   "metadata": {},
   "outputs": [
    {
     "name": "stdout",
     "output_type": "stream",
     "text": [
      "['I', 'am', 'big', '!', 'It', \"'s\", 'the', 'pictures', 'that', 'got', 'small', '.']\n"
     ]
    }
   ],
   "source": [
    "print(re.findall(r'\\w+|\\S\\w*', raw))"
   ]
  },
  {
   "cell_type": "markdown",
   "id": "9997196d-a229-41b6-814c-75a2ea06b84f",
   "metadata": {
    "jp-MarkdownHeadingCollapsed": true,
    "tags": []
   },
   "source": [
    "### Learning to write your own regex stemmer"
   ]
  },
  {
   "cell_type": "code",
   "execution_count": 33,
   "id": "3f267a16-9266-4281-9284-a2fd3c5bc97d",
   "metadata": {},
   "outputs": [],
   "source": [
    "def stem(word):\n",
    "    splits = re.findall(r'^(.*?)(ing|ly|ed|ious|ies|ive|es|s|ment)?$',word)\n",
    "    stem = splits[0][0]\n",
    "    return stem"
   ]
  },
  {
   "cell_type": "code",
   "execution_count": 34,
   "id": "45c41b06-3406-4b9c-8932-e8c2474d7be9",
   "metadata": {},
   "outputs": [
    {
     "name": "stdout",
     "output_type": "stream",
     "text": [
      "['Keep', 'your', 'friends', 'close', ',', 'but', 'your', 'enemies', 'closer', '.']\n"
     ]
    }
   ],
   "source": [
    "raw = \"Keep your friends close, but your enemies closer.\"\n",
    "tokens = re.findall(r'\\w+|\\S\\w*', raw)\n",
    "print(tokens)"
   ]
  },
  {
   "cell_type": "code",
   "execution_count": 35,
   "id": "fe57c1f1-f4cd-47e7-878c-61a731eba214",
   "metadata": {},
   "outputs": [
    {
     "name": "stdout",
     "output_type": "stream",
     "text": [
      "'Keep'\n",
      "'your'\n",
      "'friend'\n",
      "'close'\n",
      "','\n",
      "'but'\n",
      "'your'\n",
      "'enem'\n",
      "'closer'\n",
      "'.'\n"
     ]
    }
   ],
   "source": [
    "for t in tokens:\n",
    "    print(\"'\"+stem(t)+\"'\")"
   ]
  }
 ],
 "metadata": {
  "kernelspec": {
   "display_name": "Python 3 (ipykernel)",
   "language": "python",
   "name": "python3"
  },
  "language_info": {
   "codemirror_mode": {
    "name": "ipython",
    "version": 3
   },
   "file_extension": ".py",
   "mimetype": "text/x-python",
   "name": "python",
   "nbconvert_exporter": "python",
   "pygments_lexer": "ipython3",
   "version": "3.9.13"
  }
 },
 "nbformat": 4,
 "nbformat_minor": 5
}
